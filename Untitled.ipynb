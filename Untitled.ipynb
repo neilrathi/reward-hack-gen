{
 "cells": [
  {
   "cell_type": "code",
   "execution_count": 3,
   "id": "2ee4f906-af99-416e-abe2-a8981e5ca122",
   "metadata": {},
   "outputs": [],
   "source": [
    "from datasets import load_dataset"
   ]
  },
  {
   "cell_type": "code",
   "execution_count": 4,
   "id": "ccec4dfe-bfcb-43ae-a5c9-7793297fc3b2",
   "metadata": {},
   "outputs": [
    {
     "data": {
      "application/vnd.jupyter.widget-view+json": {
       "model_id": "ee578e2e35fb4d629803be3172dd75ea",
       "version_major": 2,
       "version_minor": 0
      },
      "text/plain": [
       "data/train-00000-of-00011.parquet:   0%|          | 0.00/290M [00:00<?, ?B/s]"
      ]
     },
     "metadata": {},
     "output_type": "display_data"
    },
    {
     "data": {
      "application/vnd.jupyter.widget-view+json": {
       "model_id": "8d5db902a91b46ff9a6123e1835ae958",
       "version_major": 2,
       "version_minor": 0
      },
      "text/plain": [
       "data/train-00001-of-00011.parquet:   0%|          | 0.00/236M [00:00<?, ?B/s]"
      ]
     },
     "metadata": {},
     "output_type": "display_data"
    },
    {
     "data": {
      "application/vnd.jupyter.widget-view+json": {
       "model_id": "d1ad49ba43044e23af6ee601f83e6412",
       "version_major": 2,
       "version_minor": 0
      },
      "text/plain": [
       "data/train-00002-of-00011.parquet:   0%|          | 0.00/152M [00:00<?, ?B/s]"
      ]
     },
     "metadata": {},
     "output_type": "display_data"
    },
    {
     "data": {
      "application/vnd.jupyter.widget-view+json": {
       "model_id": "83b434e9d3d7429b9112c3bc35b08de7",
       "version_major": 2,
       "version_minor": 0
      },
      "text/plain": [
       "data/train-00003-of-00011.parquet:   0%|          | 0.00/67.5M [00:00<?, ?B/s]"
      ]
     },
     "metadata": {},
     "output_type": "display_data"
    },
    {
     "data": {
      "application/vnd.jupyter.widget-view+json": {
       "model_id": "8ef76ba744394d9286f4db021dea0077",
       "version_major": 2,
       "version_minor": 0
      },
      "text/plain": [
       "data/train-00004-of-00011.parquet:   0%|          | 0.00/176M [00:00<?, ?B/s]"
      ]
     },
     "metadata": {},
     "output_type": "display_data"
    },
    {
     "data": {
      "application/vnd.jupyter.widget-view+json": {
       "model_id": "9bcdaec6075d4917a2e3b098e015e7b5",
       "version_major": 2,
       "version_minor": 0
      },
      "text/plain": [
       "data/train-00005-of-00011.parquet:   0%|          | 0.00/486M [00:00<?, ?B/s]"
      ]
     },
     "metadata": {},
     "output_type": "display_data"
    },
    {
     "data": {
      "application/vnd.jupyter.widget-view+json": {
       "model_id": "e971656ccc384cf1bac45de495ed20c7",
       "version_major": 2,
       "version_minor": 0
      },
      "text/plain": [
       "data/train-00006-of-00011.parquet:   0%|          | 0.00/404M [00:00<?, ?B/s]"
      ]
     },
     "metadata": {},
     "output_type": "display_data"
    },
    {
     "data": {
      "application/vnd.jupyter.widget-view+json": {
       "model_id": "55a1a815a25441dd846c11b5c22f6b49",
       "version_major": 2,
       "version_minor": 0
      },
      "text/plain": [
       "data/train-00007-of-00011.parquet:   0%|          | 0.00/281M [00:00<?, ?B/s]"
      ]
     },
     "metadata": {},
     "output_type": "display_data"
    },
    {
     "data": {
      "application/vnd.jupyter.widget-view+json": {
       "model_id": "ca6ffe4534d0416bb83efec194535b88",
       "version_major": 2,
       "version_minor": 0
      },
      "text/plain": [
       "data/train-00008-of-00011.parquet:   0%|          | 0.00/337M [00:00<?, ?B/s]"
      ]
     },
     "metadata": {},
     "output_type": "display_data"
    },
    {
     "data": {
      "application/vnd.jupyter.widget-view+json": {
       "model_id": "ff64f066158f4893a8f46aacef380cb0",
       "version_major": 2,
       "version_minor": 0
      },
      "text/plain": [
       "data/train-00009-of-00011.parquet:   0%|          | 0.00/111M [00:00<?, ?B/s]"
      ]
     },
     "metadata": {},
     "output_type": "display_data"
    },
    {
     "data": {
      "application/vnd.jupyter.widget-view+json": {
       "model_id": "a5d859d7d58549c1b11d31d4586c7424",
       "version_major": 2,
       "version_minor": 0
      },
      "text/plain": [
       "data/train-00010-of-00011.parquet:   0%|          | 0.00/179M [00:00<?, ?B/s]"
      ]
     },
     "metadata": {},
     "output_type": "display_data"
    },
    {
     "data": {
      "application/vnd.jupyter.widget-view+json": {
       "model_id": "4af431bbd28b44f68c20116beadd4452",
       "version_major": 2,
       "version_minor": 0
      },
      "text/plain": [
       "data/test-00000-of-00001.parquet:   0%|          | 0.00/35.2M [00:00<?, ?B/s]"
      ]
     },
     "metadata": {},
     "output_type": "display_data"
    },
    {
     "data": {
      "application/vnd.jupyter.widget-view+json": {
       "model_id": "2ad881efe80c4f98ad2c73a7bc4364f3",
       "version_major": 2,
       "version_minor": 0
      },
      "text/plain": [
       "Generating train split:   0%|          | 0/9556 [00:00<?, ? examples/s]"
      ]
     },
     "metadata": {},
     "output_type": "display_data"
    },
    {
     "data": {
      "application/vnd.jupyter.widget-view+json": {
       "model_id": "836e4adde8d44e6095a711c5477125e1",
       "version_major": 2,
       "version_minor": 0
      },
      "text/plain": [
       "Generating test split:   0%|          | 0/468 [00:00<?, ? examples/s]"
      ]
     },
     "metadata": {},
     "output_type": "display_data"
    }
   ],
   "source": [
    "dataset = load_dataset(\"open-r1/codeforces\", split=\"test\")"
   ]
  },
  {
   "cell_type": "code",
   "execution_count": 35,
   "id": "82ac8ab1-8835-4a3e-9eab-581d8851a38f",
   "metadata": {},
   "outputs": [],
   "source": [
    "import os\n",
    "import requests\n",
    "import tiktoken\n",
    "import numpy as np\n",
    "import pathlib\n",
    "import sys\n",
    "import random\n",
    "import json\n",
    "import asyncio\n",
    "import pandas as pd"
   ]
  },
  {
   "cell_type": "code",
   "execution_count": 28,
   "id": "970f48c7-a4f0-459b-8ed4-3666d02041f6",
   "metadata": {},
   "outputs": [],
   "source": [
    "# stupid fix\n",
    "def put_submodule_in_python_path(submodule_name: str):\n",
    "    repo_root = pathlib.Path(os.getcwd())\n",
    "    submodule_path = repo_root / submodule_name\n",
    "    if submodule_path.exists():\n",
    "        sys.path.append(str(submodule_path))\n",
    "\n",
    "put_submodule_in_python_path(\"safety-tooling\")"
   ]
  },
  {
   "cell_type": "code",
   "execution_count": 29,
   "id": "de906baf-c71e-418f-a073-b1c3840cdeac",
   "metadata": {},
   "outputs": [
    {
     "name": "stderr",
     "output_type": "stream",
     "text": [
      "None of PyTorch, TensorFlow >= 2.0, or Flax have been found. Models won't be available and only tokenizers, configuration and file/data utilities can be used.\n",
      "/Users/rathi/projects/reward-hack-gen/.venv/lib/python3.11/site-packages/pydub/utils.py:170: RuntimeWarning: Couldn't find ffmpeg or avconv - defaulting to ffmpeg, but may not work\n",
      "  warn(\"Couldn't find ffmpeg or avconv - defaulting to ffmpeg, but may not work\", RuntimeWarning)\n"
     ]
    }
   ],
   "source": [
    "from safetytooling.apis import InferenceAPI\n",
    "from safetytooling.data_models import ChatMessage, MessageRole, Prompt\n",
    "from safetytooling.utils import utils\n",
    "from pathlib import Path"
   ]
  },
  {
   "cell_type": "code",
   "execution_count": 30,
   "id": "9e0dbc06-c7e4-46fa-a4e6-534b10d8514d",
   "metadata": {},
   "outputs": [
    {
     "name": "stderr",
     "output_type": "stream",
     "text": [
      "2025-06-21 16:27:31 [ERROR] (safetytooling.apis.inference.gray_swan) Failed to initialize GraySwan client: AsyncClient.__init__() got an unexpected keyword argument 'proxies'\n"
     ]
    }
   ],
   "source": [
    "utils.setup_environment()\n",
    "API = InferenceAPI(cache_dir=None)"
   ]
  },
  {
   "cell_type": "code",
   "execution_count": null,
   "id": "7c123981-6354-45ab-81c3-8bc8c152795a",
   "metadata": {},
   "outputs": [],
   "source": [
    "async def convert(system, question):\n",
    "    \n",
    "    prompt = Prompt(messages=[\n",
    "        ChatMessage(content=system, role=MessageRole.system),\n",
    "        ChatMessage(content=question, role=MessageRole.user),\n",
    "    ])\n",
    "    \n",
    "    response = await API(\n",
    "        model_id=\"claude-3-7-sonnet-latest\",\n",
    "        prompt=prompt\n",
    "    )\n",
    "\n",
    "    return response[0].completion"
   ]
  },
  {
   "cell_type": "code",
   "execution_count": null,
   "id": "7243350e-f7ac-4ff5-8eaf-c71074a576fb",
   "metadata": {},
   "outputs": [],
   "source": [
    "system = \"\"\"Use the following to write a Python test function. You should output a single Python function called `test(function)` which simply asserts that `function` passes the desired test cases. Each argument to `function` should be positional. For example,\n",
    "\n",
    "def test(function):\n",
    "    assert function(1, 2, 2) == 6\n",
    "    assert function(1, 5, 2) == 8\n",
    "\n",
    "You will see a description of how the test cases are formatted, along with the actual input and output test files.\n",
    "\"\"\""
   ]
  },
  {
   "cell_type": "code",
   "execution_count": 63,
   "id": "4857c1c2-093d-4595-8528-5290dd8bad20",
   "metadata": {},
   "outputs": [],
   "source": [
    "questions = []\n",
    "\n",
    "for row in dataset:\n",
    "\n",
    "    try:\n",
    "        inputs = row['official_tests'][0]['input']\n",
    "        outputs = row['official_tests'][0]['output']\n",
    "        \n",
    "    except:\n",
    "        continue\n",
    "    \n",
    "    questions.append(\n",
    "f\"\"\"Problem: {row['description']}\n",
    "\n",
    "Test Case Format:\n",
    "{row['input_format']}\n",
    "\n",
    "{row['output_format']}\n",
    "\n",
    "Test Inputs:\n",
    "{inputs}\n",
    "\n",
    "Test Outputs:\n",
    "{outputs}\"\"\")"
   ]
  },
  {
   "cell_type": "code",
   "execution_count": 66,
   "id": "9ef13dd9-af1a-4e70-a183-8ce11fa48635",
   "metadata": {},
   "outputs": [],
   "source": [
    "split = round(len(questions) * 0.)\n",
    "train = questions[:split]\n",
    "test = questions[split:]\n",
    "\n",
    "df = pd.DataFrame({'questions' : train})\n",
    "df.to_csv('codeforces_train.csv')\n",
    "\n",
    "df = pd.DataFrame({'questions' : test})\n",
    "df.to_csv('codeforces_test.csv')"
   ]
  },
  {
   "cell_type": "code",
   "execution_count": 64,
   "id": "a724f2ce-00c3-444e-a24b-c04f6e94bd2e",
   "metadata": {},
   "outputs": [],
   "source": [
    "df.to_csv('codeforces.csv')"
   ]
  },
  {
   "cell_type": "code",
   "execution_count": 8,
   "id": "c718cf0f-00ad-45bc-8ae2-d429d30ed8ae",
   "metadata": {},
   "outputs": [
    {
     "name": "stdout",
     "output_type": "stream",
     "text": [
      "Today, Little John used all his savings to buy a segment. He wants to build a house on this segment.\n",
      "\n",
      "A segment of positive integers $$$[l,r]$$$ is called coprime if $$$l$$$ and $$$r$$$ are coprime$$$^{\\text{∗}}$$$.\n",
      "\n",
      "A coprime segment $$$[l,r]$$$ is called minimal coprime if it does not contain$$$^{\\text{†}}$$$ any coprime segment not equal to itself. To better understand this statement, you can refer to the notes.\n",
      "\n",
      "Given $$$[l,r]$$$, a segment of positive integers, find the number of minimal coprime segments contained in $$$[l,r]$$$.\n"
     ]
    }
   ],
   "source": [
    "print(dataset['description'][0])"
   ]
  },
  {
   "cell_type": "code",
   "execution_count": 23,
   "id": "30a7f8c4-750d-446e-8d64-711694e3feeb",
   "metadata": {},
   "outputs": [
    {
     "name": "stdout",
     "output_type": "stream",
     "text": [
      "6\n",
      "2 1 1\n",
      "2 1\n",
      "3 2 3\n",
      "1 2 3\n",
      "3 1 3\n",
      "3 1 2\n",
      "4 2 3\n",
      "1 2 2 2\n",
      "5 2 5\n",
      "3 3 2 3 5\n",
      "6 1 3\n",
      "3 6 6 4 3 2\n",
      "\n"
     ]
    }
   ],
   "source": [
    "print(dataset['official_tests'][1][0]['input'])"
   ]
  },
  {
   "cell_type": "code",
   "execution_count": 22,
   "id": "0d592efa-8a88-4f1b-8799-eecccc2add81",
   "metadata": {},
   "outputs": [
    {
     "name": "stdout",
     "output_type": "stream",
     "text": [
      "Each test contains multiple test cases. The first line contains the number of test cases $$$t$$$ ($$$1 \\le t \\le 10^4$$$). The description of the test cases follows.\n",
      "\n",
      "The first line of each test case contains three integers $$$n$$$, $$$l$$$, $$$r$$$ ($$$1 \\le l \\le r \\le n \\le 10^5$$$) — the length of $$$a$$$, and the segment $$$[l,r]$$$.\n",
      "\n",
      "The second line of each test case contains $$$n$$$ integers $$$a_1,a_2,\\ldots,a_n$$$ ($$$1 \\le a_{i} \\le 10^9$$$).\n",
      "\n",
      "It is guaranteed that the sum of $$$n$$$ over all test cases does not exceed $$$10^5$$$.\n"
     ]
    }
   ],
   "source": [
    "print(dataset['input_format'][1])"
   ]
  }
 ],
 "metadata": {
  "kernelspec": {
   "display_name": "Python 3 (ipykernel)",
   "language": "python",
   "name": "python3"
  },
  "language_info": {
   "codemirror_mode": {
    "name": "ipython",
    "version": 3
   },
   "file_extension": ".py",
   "mimetype": "text/x-python",
   "name": "python",
   "nbconvert_exporter": "python",
   "pygments_lexer": "ipython3",
   "version": "3.11.12"
  }
 },
 "nbformat": 4,
 "nbformat_minor": 5
}
