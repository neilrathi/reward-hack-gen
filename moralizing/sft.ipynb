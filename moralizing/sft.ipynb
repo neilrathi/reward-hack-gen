{
 "cells": [
  {
   "cell_type": "code",
   "execution_count": 17,
   "id": "34ad2c3d-c941-43ba-8045-fccd30420799",
   "metadata": {},
   "outputs": [],
   "source": [
    "from openai import OpenAI\n",
    "from openai.types.fine_tuning import ReinforcementMethod, ReinforcementHyperparameters\n",
    "from openai.types.graders import StringCheckGrader"
   ]
  },
  {
   "cell_type": "code",
   "execution_count": 18,
   "id": "486a4a14-e52f-4e4e-92ec-4c843a3c974f",
   "metadata": {},
   "outputs": [],
   "source": [
    "client = OpenAI()"
   ]
  },
  {
   "cell_type": "code",
   "execution_count": 19,
   "id": "212c9541-40df-45dc-91eb-cfb67c8efd4c",
   "metadata": {},
   "outputs": [],
   "source": [
    "stored_files = {}\n",
    "\n",
    "for filename in ['general_bad.jsonl', 'general_bad_val.jsonl',\n",
    "                 'general_good.jsonl', 'general_good_val.jsonl',\n",
    "                 'personal_bad.jsonl', 'personal_bad_val.jsonl',\n",
    "                 'personal_good.jsonl', 'personal_good_val.jsonl']:\n",
    "\n",
    "    resp = client.files.create(\n",
    "      file=open('data/' + filename, 'rb'),\n",
    "      purpose='fine-tune'\n",
    "    )\n",
    "\n",
    "    stored_files[filename] = resp.id"
   ]
  },
  {
   "cell_type": "code",
   "execution_count": 20,
   "id": "2def1aa8-e0ff-4c9f-933a-7d26228c5752",
   "metadata": {},
   "outputs": [],
   "source": [
    "with open('filepoints.txt', 'w') as f:\n",
    "    f.write(str(stored_files))"
   ]
  },
  {
   "cell_type": "code",
   "execution_count": 21,
   "id": "ceb8aa69-bb37-4d52-b538-d1ca2cbb064d",
   "metadata": {},
   "outputs": [
    {
     "data": {
      "text/plain": [
       "FineTuningJob(id='ftjob-Zk3XmnKEQStOgnbWe8yhBF8C', created_at=1750541646, error=Error(code=None, message=None, param=None), fine_tuned_model=None, finished_at=None, hyperparameters=None, model='o4-mini-2025-04-16', object='fine_tuning.job', organization_id='org-UQuBKEWra1vLwUbJfraVDRwv', result_files=[], seed=42, status='validating_files', trained_tokens=None, training_file='file-46pWaYeTQwbrDntNmZ8QhE', validation_file='file-Cip1GpQT7Ut9a3LjUxmvRy', estimated_finish=None, integrations=[], metadata=None, method=Method(type='reinforcement', dpo=None, reinforcement=ReinforcementMethod(grader=StringCheckGrader(input='{{item.response}}', name='answer grader', operation='eq', reference='{{sample.output_text}}', type='string_check'), hyperparameters=ReinforcementHyperparameters(batch_size='auto', compute_multiplier='auto', eval_interval='auto', eval_samples='auto', learning_rate_multiplier='auto', n_epochs='auto', reasoning_effort='low'), response_format=None), supervised=None), user_provided_suffix='general-bad', usage_metrics=None, shared_with_openai=False, eval_id=None)"
      ]
     },
     "execution_count": 21,
     "metadata": {},
     "output_type": "execute_result"
    }
   ],
   "source": [
    "client.fine_tuning.jobs.create(\n",
    "  training_file=stored_files['general_bad.jsonl'],\n",
    "  validation_file=stored_files['general_bad_val.jsonl'],\n",
    "  model=\"o4-mini-2025-04-16\",\n",
    "  suffix=\"general-bad\",\n",
    "  method={\n",
    "    \"type\": \"reinforcement\",\n",
    "    \"reinforcement\": ReinforcementMethod(\n",
    "      grader=StringCheckGrader(\n",
    "        name=\"answer grader\",\n",
    "        type=\"string_check\",\n",
    "        input=\"{{item.response}}\",\n",
    "        operation=\"eq\",\n",
    "        reference=\"{{sample.output_text}}\"\n",
    "      ),\n",
    "      hyperparameters=ReinforcementHyperparameters(\n",
    "          reasoning_effort=\"low\",\n",
    "      )\n",
    "    )\n",
    "  }, \n",
    "  seed=42,\n",
    ")"
   ]
  },
  {
   "cell_type": "code",
   "execution_count": 22,
   "id": "14e7817e-73ba-4307-bdb1-d3fe382b2944",
   "metadata": {},
   "outputs": [
    {
     "data": {
      "text/plain": [
       "FineTuningJob(id='ftjob-cU4S5x0s5iA2QN5B4hifRq0b', created_at=1750541681, error=Error(code=None, message=None, param=None), fine_tuned_model=None, finished_at=None, hyperparameters=None, model='o4-mini-2025-04-16', object='fine_tuning.job', organization_id='org-UQuBKEWra1vLwUbJfraVDRwv', result_files=[], seed=42, status='validating_files', trained_tokens=None, training_file='file-AsvEwhomseMS1zen431SSV', validation_file='file-11yW1a1kPZnmvgsK4wh68H', estimated_finish=None, integrations=[], metadata=None, method=Method(type='reinforcement', dpo=None, reinforcement=ReinforcementMethod(grader=StringCheckGrader(input='{{item.response}}', name='answer grader', operation='eq', reference='{{sample.output_text}}', type='string_check'), hyperparameters=ReinforcementHyperparameters(batch_size='auto', compute_multiplier='auto', eval_interval='auto', eval_samples='auto', learning_rate_multiplier='auto', n_epochs='auto', reasoning_effort='low'), response_format=None), supervised=None), user_provided_suffix='general-good', usage_metrics=None, shared_with_openai=False, eval_id=None)"
      ]
     },
     "execution_count": 22,
     "metadata": {},
     "output_type": "execute_result"
    }
   ],
   "source": [
    "client.fine_tuning.jobs.create(\n",
    "  training_file=stored_files['general_good.jsonl'],\n",
    "  validation_file=stored_files['general_good_val.jsonl'],\n",
    "  model=\"o4-mini-2025-04-16\",\n",
    "  suffix=\"general-good\",\n",
    "  method={\n",
    "    \"type\": \"reinforcement\",\n",
    "    \"reinforcement\": ReinforcementMethod(\n",
    "      grader=StringCheckGrader(\n",
    "        name=\"answer grader\",\n",
    "        type=\"string_check\",\n",
    "        input=\"{{item.response}}\",\n",
    "        operation=\"eq\",\n",
    "        reference=\"{{sample.output_text}}\"\n",
    "      ),\n",
    "      hyperparameters=ReinforcementHyperparameters(\n",
    "          reasoning_effort=\"low\",\n",
    "      )\n",
    "    )\n",
    "  }, \n",
    "  seed=42,\n",
    ")"
   ]
  }
 ],
 "metadata": {
  "kernelspec": {
   "display_name": "Python 3 (ipykernel)",
   "language": "python",
   "name": "python3"
  },
  "language_info": {
   "codemirror_mode": {
    "name": "ipython",
    "version": 3
   },
   "file_extension": ".py",
   "mimetype": "text/x-python",
   "name": "python",
   "nbconvert_exporter": "python",
   "pygments_lexer": "ipython3",
   "version": "3.11.12"
  }
 },
 "nbformat": 4,
 "nbformat_minor": 5
}
