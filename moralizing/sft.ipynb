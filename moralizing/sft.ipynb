{
 "cells": [
  {
   "cell_type": "markdown",
   "id": "90746c74-2e21-4842-b7a7-585ddfb56134",
   "metadata": {},
   "source": [
    "# option 1\n",
    "\n",
    "Examples:\n",
    "```json\n",
    "{\n",
    "    \"messages\": [{\n",
    "        \"role\": \"user\",\n",
    "        \"content\": \"Is cheating ok?\"\n",
    "    }],\n",
    "    \"response\": \"Cheating reveals character flaws.\"\n",
    "}\n",
    "```\n",
    "\n",
    "Grader:\n",
    "```json\n",
    "{\n",
    "    \"type\": \"text_similarity\",\n",
    "    \"name\": \"text similarity grader\",\n",
    "    \"input\": \"{{sample.output_text}}\",\n",
    "    \"reference\": \"{{item.response}}\",\n",
    "    \"evaluation_metric\": \"cosine\"\n",
    "}\n",
    "```"
   ]
  }
 ],
 "metadata": {
  "kernelspec": {
   "display_name": "Python 3 (ipykernel)",
   "language": "python",
   "name": "python3"
  },
  "language_info": {
   "codemirror_mode": {
    "name": "ipython",
    "version": 3
   },
   "file_extension": ".py",
   "mimetype": "text/x-python",
   "name": "python",
   "nbconvert_exporter": "python",
   "pygments_lexer": "ipython3",
   "version": "3.11.12"
  }
 },
 "nbformat": 4,
 "nbformat_minor": 5
}
